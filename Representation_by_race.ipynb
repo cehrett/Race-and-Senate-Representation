{
 "cells": [
  {
   "cell_type": "markdown",
   "metadata": {},
   "source": [
    "# Congressional representation by race\n",
    "In the bicameral United States Congress, the citizens of each state share amongst them two senators. Thus, the citizens of a state with a smaller population each may be said to enjoy a greater \"share\" of senatorial representation than citizens of a larger state. Though representation in the House of Representatives is more closely tied to population, it remains the case that citizens differ in the share of representation they enjoy in the House.\n",
    "\n",
    "**Share of representation** is defined as follows. Where $n_s$ is the population of state $s$, each citizen of state $s$ is said to enjoy $2/n_s$ shares of senatorial representation. Where $n_c$ is the population of congressional district $c$, each citizen of $c$ is said to enjoy $1/n_c$ shares of House representation.\n",
    "\n",
    "**The goal of this work** is to examine to what extent, in the 113th and 115th Congresses (respectively, 2013-2014 and 2017-2018), the share of representation enjoyed by the average citizen varied by race or ethnicity."
   ]
  },
  {
   "cell_type": "markdown",
   "metadata": {},
   "source": [
    "## 113th Congress results\n",
    "\n",
    "The differing levels of representation enjoyed by each of the four categories is represented in the following figure. Here, for both the House and the Senate, the average shares of representation for citizens of each category is compared to the average shares of representation of non-members of that category. So, for example, the barplot shows that whites have on average almost 22.5% more shares of Senators than do non-whites. Hispanics have almost 39.5% fewer shares of Senators than do non-Hispanics.\n",
    "![myfig](Percent_deviations_113th.png)\n",
    "By contrast, there is almost no difference in representation between the categories with respect to the House. \n",
    "\n",
    "Another perspective on the relationship between a given class and Senate representation can be gained by examining a scatterplot showing, for each state, the proportion of the population that is in that class along with the number of shares of Senators that each citizen has in that state. Given the above barplot, we might expect that (e.g.) citizens of higher-proportion white states will enjoy more shares of Senate representation than citizens of low-proportion white states. Indeed we do see that, in the following figure. In addition to the scatterplot, a logistic regression of class proportion on shares of representation appears as a red curve.\n",
    "![myfig](Pop_vs_sen_shares_113.png)\n",
    "Hawaii is a major outlier in its low white population and high asian population. It is therefore of interest to look at the same scatterplots and logistic regressions with Hawaii removed, for the white and asian categories. The result is in the following figure.\n",
    "![myfig](Pop_vs_sen_shares_113_asian_wo_hi.png)"
   ]
  },
  {
   "cell_type": "markdown",
   "metadata": {},
   "source": [
    "## 115th Congress results\n",
    "\n",
    "The results for the 115th Congress are very similar to those for the 113th. The barplot showing average gain in representation for each category over its complement is as follows:\n",
    "![myfig](Percent_deviations_115th.png)\n",
    "Here, whites enjoy almost 23.8% more Senate representation than non-whites, and hispanics have over 38.8% less Senate representation than do non-hispanics. These numbers are similar to the corresponding values from the 113th Congress (22.5% and 39.5%, respectively).\n",
    "\n",
    "The scatterplots showing category proportion versus Senatorial shares in each state are also similar for the 115th Congress and the 113th. The scatterplots for the 115th Congress are below, again with trendlines found by logistic regression included.\n",
    "![myfig](Pop_vs_sen_shares_113.png)\n",
    "\n",
    "And again, I provide the scatterplots for the white and asian categories with Hawaii removed:\n",
    "![myfig](Pop_vs_sen_shares_113_asian_wo_hi.png)."
   ]
  },
  {
   "cell_type": "markdown",
   "metadata": {},
   "source": [
    "## Conclusion\n",
    "\n",
    "Indeed there are enormous differences in Senate representation across racial/ethnic categories. On average, white citizens enjoy a vast advantage over nonwhite citizens in their proportionate control of the Senate. Blacks, asians, and hispanics on average all have less Senate representation than their respective complements in the population. Hispanics fare worse, with around 39% less Senate representation than non-hispanics.\n",
    "\n",
    "These racial disparities are not present in House representation. Racial/ethnic discrepancies there are almost nonexistent. The largest discrepancy seen in the data here is that for hispanics in the 115th Congress, who had about 1.4% less House representation than non-hispanics.\n",
    "\n",
    "Recall too that these results do not include the District of Columbia or any American territories. Since those regions all include American citizens who have no Senate representation, and since those regions are all minority white, including them in the results here would only exacerbate the extent to which white U.S. citizens are advantaged in Senate represenation over non-whites. It would be interesting, as a next step, to examine what would be the effect on the results gathered here of granting statehood to D.C. and the various territories."
   ]
  },
  {
   "cell_type": "markdown",
   "metadata": {},
   "source": [
    "## Data wrangling: 113th Congress"
   ]
  },
  {
   "cell_type": "code",
   "execution_count": 1,
   "metadata": {},
   "outputs": [],
   "source": [
    "# Import libraries\n",
    "import pandas as pd\n",
    "import matplotlib.pyplot as plt\n",
    "import statsmodels.api as sm\n",
    "import numpy as np\n",
    "from scipy.special import logit,expit"
   ]
  },
  {
   "cell_type": "code",
   "execution_count": 2,
   "metadata": {},
   "outputs": [],
   "source": [
    "# Load the data for the 113th congress\n",
    "cddat113 = pd.read_excel('./EasyStats_113_Congressional_DP.xlsx', sheet_name='dp05')"
   ]
  },
  {
   "cell_type": "code",
   "execution_count": 3,
   "metadata": {},
   "outputs": [],
   "source": [
    "# Get new columns corresponding to state and district, and drop unnecessary columns\n",
    "Locfull = cddat113.AREA_NAME\n",
    "stripped_loc = Locfull.str.replace(\"Congressional District \",\"\")\n",
    "distr_loc = stripped_loc.str.split(\" \\(113th Congress\\), \",expand=True)\n",
    "distr_loc[0]=distr_loc[0].str.replace(\"\\(at Large\\)\",\"0\")\n",
    "distr_loc[0]=distr_loc[0].str.replace(\"Delegate District 0\",\"-1\")\n",
    "distr_loc[0]=pd.to_numeric(distr_loc[0])\n",
    "cddat113[[\"DISTRICT\",\"STATE\"]] = distr_loc\n",
    "cddat113.drop(columns = [\"AREA_NAME\", \"GEO_ID\", \"TABLE_ID\", \"MARGIN_OF_ERROR\"], \n",
    "              inplace=True)"
   ]
  },
  {
   "cell_type": "code",
   "execution_count": 4,
   "metadata": {},
   "outputs": [],
   "source": [
    "# Drop unnecessary rows\n",
    "cddat113 = cddat113[cddat113['LINE_NUMBER'].isin([28,32,33,34,39,66])]"
   ]
  },
  {
   "cell_type": "code",
   "execution_count": 5,
   "metadata": {},
   "outputs": [],
   "source": [
    "# Combine each district's info into a single row\n",
    "cddat113 = cddat113.groupby(['DISTRICT', 'STATE'])['ESTIMATE'].apply(\n",
    "    list).reset_index()\n",
    "cddat113[['Total','White','Black','Native','Asian','Hispanic']] = \\\n",
    "    pd.DataFrame(cddat113['ESTIMATE'].values.tolist(), index=cddat113.index)\n",
    "cddat113.drop(columns=\"ESTIMATE\", inplace=True)"
   ]
  },
  {
   "cell_type": "code",
   "execution_count": 6,
   "metadata": {},
   "outputs": [],
   "source": [
    "# Get share per district of House representatives in new columns\n",
    "cddat113[\"W_hr_share\"] = cddat113.White     / cddat113.Total\n",
    "cddat113[\"B_hr_share\"] = cddat113.Black     / cddat113.Total\n",
    "cddat113[\"N_hr_share\"] = cddat113.Native    / cddat113.Total\n",
    "cddat113[\"A_hr_share\"] = cddat113.Asian     / cddat113.Total\n",
    "cddat113[\"H_hr_share\"] = cddat113.Hispanic  / cddat113.Total\n",
    "# # Correct for DC:\n",
    "# cddat113.loc[cddat113.DISTRICT == -1,[\"W_hr_share\", \"B_hr_share\", \"N_hr_share\",\n",
    "#                                       \"A_hr_share\",\"H_hr_share\"]] = [0, 0, 0, 0, 0]\n",
    "# Drop DC\n",
    "cddat113.drop(cddat113[cddat113[\"STATE\"]=='District of Columbia'].index, inplace=True)"
   ]
  },
  {
   "cell_type": "code",
   "execution_count": 7,
   "metadata": {},
   "outputs": [],
   "source": [
    "# Get average shares (in millionths) of House representatives by race\n",
    "reps_avg_share113 = pd.DataFrame(\n",
    "    cddat113[[\"W_hr_share\",\"B_hr_share\",\"N_hr_share\",\"A_hr_share\",\"H_hr_share\"]].sum(\n",
    "        axis=0).values / \n",
    "    cddat113[[\"White\",\"Black\",\"Native\",\"Asian\",\"Hispanic\"]].sum(axis=0).values,\n",
    "                           index = [\"White\", \"Black\", \"Native\", \"Asian\", \"Hispanic\"],\n",
    "                             columns = [\"House\"])"
   ]
  },
  {
   "cell_type": "code",
   "execution_count": 8,
   "metadata": {},
   "outputs": [],
   "source": [
    "# For each class, get average shares (in millionths) of House reps for non-members of that class\n",
    "reps_avg_share113[\"Non_House\"] = (\n",
    "(1-cddat113[[\"W_hr_share\",\"B_hr_share\",\"N_hr_share\",\"A_hr_share\",\"H_hr_share\"]]).sum(\n",
    "        axis=0).values / \n",
    "    (-cddat113[[\"White\",\"Black\",\"Native\",\"Asian\",\"Hispanic\"]].sub(cddat113.Total,axis=0).sum(axis=0).values))"
   ]
  },
  {
   "cell_type": "code",
   "execution_count": 9,
   "metadata": {},
   "outputs": [],
   "source": [
    "# Now make a table with a row per state, to investigate the Senate numbers\n",
    "stdat113 = cddat113.groupby(\"STATE\").sum()[[\"Total\",\"White\",\"Black\",\"Native\",\n",
    "                                            \"Asian\",\"Hispanic\"]]"
   ]
  },
  {
   "cell_type": "code",
   "execution_count": 10,
   "metadata": {},
   "outputs": [],
   "source": [
    "# Get share per state of Senators in new columns\n",
    "stdat113[\"W_sn_share\"] = 2 * stdat113.White     / stdat113.Total\n",
    "stdat113[\"B_sn_share\"] = 2 * stdat113.Black     / stdat113.Total\n",
    "stdat113[\"N_sn_share\"] = 2 * stdat113.Native    / stdat113.Total\n",
    "stdat113[\"A_sn_share\"] = 2 * stdat113.Asian     / stdat113.Total\n",
    "stdat113[\"H_sn_share\"] = 2 * stdat113.Hispanic  / stdat113.Total\n",
    "# # Correct for DC:\n",
    "# stdat113.loc['District of Columbia',[\"W_sn_share\", \"B_sn_share\", \"N_sn_share\",\n",
    "#                                      \"A_sn_share\",\"H_sn_share\"]] = [0, 0, 0, 0, 0]"
   ]
  },
  {
   "cell_type": "code",
   "execution_count": 11,
   "metadata": {},
   "outputs": [],
   "source": [
    "# Get average shares of Senators by race\n",
    "reps_avg_share113[\"Senate\"] = (\n",
    "    stdat113[[\"W_sn_share\",\"B_sn_share\",\"N_sn_share\",\"A_sn_share\",\"H_sn_share\"]].sum(\n",
    "        axis=0).values / \n",
    "    stdat113[[\"White\",\"Black\",\"Native\",\"Asian\",\"Hispanic\"]].sum(axis=0).values)  "
   ]
  },
  {
   "cell_type": "code",
   "execution_count": 12,
   "metadata": {},
   "outputs": [],
   "source": [
    "# Get average shares of Senators for non-members of each class\n",
    "reps_avg_share113[\"Non_Senate\"] = (\n",
    "(2-stdat113[[\"W_sn_share\",\"B_sn_share\",\"N_sn_share\",\"A_sn_share\",\"H_sn_share\"]]).sum(\n",
    "        axis=0).values / \n",
    "    (-stdat113[[\"White\",\"Black\",\"Native\",\"Asian\",\"Hispanic\"]].sub(stdat113.Total,axis=0).sum(axis=0).values))"
   ]
  },
  {
   "cell_type": "code",
   "execution_count": 13,
   "metadata": {},
   "outputs": [],
   "source": [
    "# Drop native americans from table, since numbers are too low for reliable inference\n",
    "reps_avg_share113.drop(['Native'],inplace=True)"
   ]
  },
  {
   "cell_type": "code",
   "execution_count": 14,
   "metadata": {},
   "outputs": [],
   "source": [
    "# Get two-letter labels for each state, for use in plots\n",
    "%run states_dict.py\n",
    "states_abbr = {v:k for k,v in states.items()}"
   ]
  },
  {
   "cell_type": "markdown",
   "metadata": {},
   "source": [
    "## Visualization: 113th Congress"
   ]
  },
  {
   "cell_type": "code",
   "execution_count": 15,
   "metadata": {},
   "outputs": [],
   "source": [
    "# Get side by side bar graphs of percentage deviation from non-class mean # of shares of each chamber\n",
    "pop_mean_hr_share = 435 / cddat113.Total.sum()\n",
    "pop_mean_sn_share = 100 / cddat113.Total.sum()\n",
    "percent_diffs_hr = (reps_avg_share113.House  / reps_avg_share113.Non_House - 1) * 100\n",
    "percent_diffs_sn = (reps_avg_share113.Senate  / reps_avg_share113.Non_Senate - 1) * 100\n",
    "\n",
    "plot=plt.figure(figsize=(14, 4))\n",
    "top,bottom = (percent_diffs_sn.max(),percent_diffs_sn.min())\n",
    "\n",
    "plt.subplot(1,2,1)\n",
    "plt.bar(percent_diffs_hr.index,percent_diffs_hr)\n",
    "plt.xlabel('Class')\n",
    "plt.ylabel('Percent deviation')\n",
    "plt.title('House shares: % deviation of class member from non-member')\n",
    "plt.ylim(bottom-1,top+1)\n",
    "plt.axhline(y=0,linewidth=1, color='k',lineStyle=':')\n",
    "\n",
    "plt.subplot(1,2,2)\n",
    "plt.bar(percent_diffs_sn.index,percent_diffs_sn)\n",
    "plt.xlabel('Class')\n",
    "plt.ylabel('Percent deviation')\n",
    "plt.title('Senate shares: % deviation of class member from non-member')\n",
    "plt.ylim(bottom-1,top+1)\n",
    "plt.axhline(y=0,linewidth=1, color='k',lineStyle=':')\n",
    "\n",
    "#plt.show()\n",
    "plot.savefig('Percent_deviations_113th.png')\n",
    "#percent_diffs_sn\n",
    "plt.close()"
   ]
  },
  {
   "cell_type": "code",
   "execution_count": 21,
   "metadata": {},
   "outputs": [
    {
     "data": {
      "image/png": "[encoded data removed]",
      "text/plain": [
       "<Figure size 1152x864 with 4 Axes>"
      ]
     },
     "metadata": {},
     "output_type": "display_data"
    }
   ],
   "source": [
    "# Get a scatterplot for each race showing senatorial representation vs \n",
    "# race proportion of population in each state\n",
    "\n",
    "white_pop_prop = pd.DataFrame(stdat113.White    / stdat113.Total)\n",
    "black_pop_prop = pd.DataFrame(stdat113.Black    / stdat113.Total)\n",
    "asian_pop_prop = pd.DataFrame(stdat113.Asian    / stdat113.Total)\n",
    "hispn_pop_prop = pd.DataFrame(stdat113.Hispanic / stdat113.Total)\n",
    "\n",
    "avg_share_pp  = pd.DataFrame(1e7 * stdat113.B_sn_share / stdat113.Black) \n",
    "\n",
    "fig,axs = plt.subplots(2,2,figsize=(16,12))\n",
    "\n",
    "\n",
    "# White plot\n",
    "ax = axs[0,0]\n",
    "for ii in range(len(white_pop_prop)):\n",
    "    ax.text(avg_share_pp.iloc[ii],white_pop_prop.iloc[ii],\n",
    "                states_abbr[white_pop_prop.index[ii]],color =\"blue\")\n",
    "    ax.set_xlim([0,avg_share_pp.max().values*1.1])\n",
    "    ax.set_ylim([white_pop_prop.min().values*.9,1])\n",
    "# plt.scatter(avg_share_pp,white_pop_prop)\n",
    "ax.set_ylabel('White proportion of total population')\n",
    "ax.set_xlabel('Senatorial shares (ten millionths)')\n",
    "ax.set_title('White proportion of population vs. share of senatorial rep.')\n",
    "results = sm.OLS(logit(white_pop_prop),sm.add_constant(avg_share_pp)).fit()\n",
    "# print(results.summary())\n",
    "ax.plot(np.linspace(0,35),expit(results.params.const + results.params[0] * \n",
    "                                 np.linspace(0,35)), color=\"red\")\n",
    "\n",
    "# Black plot\n",
    "ax = axs[0,1]\n",
    "for ii in range(len(black_pop_prop)):\n",
    "    ax.text(avg_share_pp.iloc[ii],black_pop_prop.iloc[ii],\n",
    "                states_abbr[black_pop_prop.index[ii]],color =\"blue\")\n",
    "    ax.set_xlim([0,avg_share_pp.max().values*1.1])\n",
    "    ax.set_ylim([0,black_pop_prop.max().values*1.1])\n",
    "# plt.scatter(avg_share_pp,white_pop_prop)\n",
    "ax.set_ylabel('Black proportion of total population')\n",
    "ax.set_xlabel('Senatorial shares (ten millionths)')\n",
    "ax.set_title('Black proportion of population vs. share of senatorial rep.')\n",
    "results = sm.OLS(logit(black_pop_prop),sm.add_constant(avg_share_pp)).fit()\n",
    "# print(results.summary())\n",
    "ax.plot(np.linspace(0,35),expit(results.params.const + results.params[0] * \n",
    "                                 np.linspace(0,35)), color=\"red\")\n",
    "\n",
    "# Asian plot\n",
    "ax = axs[1,0]\n",
    "for ii in range(len(asian_pop_prop)):\n",
    "    ax.text(avg_share_pp.iloc[ii],asian_pop_prop.iloc[ii],\n",
    "                states_abbr[asian_pop_prop.index[ii]],color =\"blue\")\n",
    "    ax.set_xlim([0,avg_share_pp.max().values*1.1])\n",
    "    ax.set_ylim([0,asian_pop_prop.max().values*1.1])\n",
    "# plt.scatter(avg_share_pp,white_pop_prop)\n",
    "ax.set_ylabel('Asian proportion of total population')\n",
    "ax.set_xlabel('Senatorial shares (ten millionths)')\n",
    "ax.set_title('Asian proportion of population vs. share of senatorial rep.')\n",
    "results = sm.OLS(logit(asian_pop_prop),sm.add_constant(avg_share_pp)).fit()\n",
    "# print(results.summary())\n",
    "ax.plot(np.linspace(0,35),expit(results.params.const + results.params[0] * \n",
    "                                 np.linspace(0,35)), color=\"red\")\n",
    "\n",
    "# Hispanic plot\n",
    "ax = axs[1,1]\n",
    "for ii in range(len(hispn_pop_prop)):\n",
    "    ax.text(avg_share_pp.iloc[ii],hispn_pop_prop.iloc[ii],\n",
    "                states_abbr[hispn_pop_prop.index[ii]],color =\"blue\")\n",
    "    ax.set_xlim([0,avg_share_pp.max().values*1.1])\n",
    "    ax.set_ylim([0,hispn_pop_prop.max().values*1.1])\n",
    "# plt.scatter(avg_share_pp,white_pop_prop)\n",
    "ax.set_ylabel('Hispanic proportion of total population')\n",
    "ax.set_xlabel('Senatorial shares (ten millionths)')\n",
    "ax.set_title('Hispanic proportion of population vs. share of senatorial rep.')\n",
    "results = sm.OLS(logit(hispn_pop_prop),sm.add_constant(avg_share_pp)).fit()\n",
    "# print(results.summary())\n",
    "ax.plot(np.linspace(0,35),expit(results.params.const + results.params[0] * \n",
    "                                 np.linspace(0,35)), color=\"red\")\n",
    "\n",
    "# plt.show()\n",
    "fig.savefig('Pop_vs_sen_shares_113.png')\n",
    "plt.close()"
   ]
  },
  {
   "cell_type": "code",
   "execution_count": 23,
   "metadata": {},
   "outputs": [],
   "source": [
    "# Now look again at white and asian senatorial representation, but without Hawaii\n",
    "\n",
    "app = asian_pop_prop.drop(['Hawaii'])\n",
    "# app_ndc = app.drop(['District of Columbia'])\n",
    "asp = avg_share_pp.drop(['Hawaii'])\n",
    "# asp_ndc = avg_share_pp_ndc.drop(['Hawaii'])\n",
    "wpp = white_pop_prop.drop(['Hawaii'])\n",
    "\n",
    "fig, axs = plt.subplots(1,2,figsize=(16,6))\n",
    "\n",
    "ax=axs[0]\n",
    "for ii in range(len(wpp)):\n",
    "    ax.text(asp.iloc[ii],wpp.iloc[ii],\n",
    "                states_abbr[wpp.index[ii]],color =\"blue\")\n",
    "    ax.set_xlim([0,asp.max().values*1.1])\n",
    "    ax.set_ylim([wpp.min().values*0.9,1])\n",
    "ax.set_ylabel('White proportion of total population')\n",
    "ax.set_xlabel('Senatorial shares (ten millionths)')\n",
    "ax.set_title('White proportion of population vs. share of senatorial rep., w/o Hawaii')\n",
    "results = sm.OLS(logit(wpp),sm.add_constant(asp)).fit()\n",
    "ax.plot(np.linspace(0,35),expit(results.params.const + results.params[0] * \n",
    "                                 np.linspace(0,35)), color=\"red\")\n",
    "\n",
    "ax=axs[1]\n",
    "for ii in range(len(app)):\n",
    "    ax.text(asp.iloc[ii],app.iloc[ii],\n",
    "                states_abbr[app.index[ii]],color =\"blue\")\n",
    "    ax.set_xlim([0,asp.max().values*1.1])\n",
    "    ax.set_ylim([0,app.max().values*1.1])\n",
    "ax.set_ylabel('Asian proportion of total population')\n",
    "ax.set_xlabel('Senatorial shares (ten millionths)')\n",
    "ax.set_title('Asian proportion of population vs. share of senatorial rep., w/o Hawaii')\n",
    "results = sm.OLS(logit(app),sm.add_constant(asp)).fit()\n",
    "ax.plot(np.linspace(0,35),expit(results.params.const + results.params[0] * \n",
    "                                 np.linspace(0,35)), color=\"red\")\n",
    "\n",
    "# plt.show()\n",
    "fig.savefig('Pop_vs_sen_shares_113_asian_wo_hi.png')\n",
    "plt.close()"
   ]
  },
  {
   "cell_type": "markdown",
   "metadata": {},
   "source": [
    "## Data wrangling: 115th Congress"
   ]
  },
  {
   "cell_type": "code",
   "execution_count": 24,
   "metadata": {},
   "outputs": [],
   "source": [
    "# Load the data for the 115th Congress\n",
    "## First, get a list of states from the stdat113\n",
    "states = [i.replace(\" \",\"_\") for i in stdat113.index]\n",
    "\n",
    "## Now loop through all states and add their data to the data frome\n",
    "for state in states:\n",
    "    ## Use these to help load data\n",
    "    fname = state + '_District_all.csv'\n",
    "    fname2 = state + '_District_At_Large.csv'\n",
    "    try: ## csv file can have either or two names, try both if necessary\n",
    "        cd = pd.read_csv('cddata115/'+fname)\n",
    "        atlarge_correction = 0 # Use this var to label At Large dists as District 0\n",
    "    except: \n",
    "        cd = pd.read_csv('cddata115/'+fname2)\n",
    "        atlarge_correction = -1\n",
    "    ncols = cd.shape[1]\n",
    "    # Drop irrelevant rows\n",
    "    cd = cd[(cd.Subject=='Race') | (cd.Subject=='Hispanic or Latino and Race')] \n",
    "    # Drop irrelevant columns\n",
    "    cd = cd.iloc[:,[i == 2 or (i>2 and i%2==1) for i in range(ncols)] ] \n",
    "    cd = cd[cd.Title.isin(['Total population','White','Black or African American',\n",
    "                           'Asian','Hispanic or Latino (of any race)'])]\n",
    "    # Previous line drops all but the rows we want\n",
    "    cd.drop_duplicates(inplace=True) # Drop extra total population row\n",
    "    cd.index = [i.split(' ',1)[0] for i in cd.Title] # Get appropriate row indices\n",
    "    # Title column no longer needed, drop it\n",
    "    cd.drop(labels='Title', axis=1, inplace=True) \n",
    "    cd.columns = [i for i in range(\n",
    "        1+atlarge_correction,cd.shape[1]+1+atlarge_correction)] \n",
    "    # Previous line simplifies column titles to be district number\n",
    "    # Transpose so we have columns as info by race, rows as districts\n",
    "    cd = cd.transpose() \n",
    "    cd['State'] = state.replace(\"_\",\" \")\n",
    "    cd['District'] = [i for i in range(\n",
    "        1+atlarge_correction,cd.shape[0]+1+atlarge_correction)]\n",
    "    try:\n",
    "        cddat115 = pd.concat([cddat115, cd], ignore_index=True)\n",
    "    except NameError:\n",
    "        cddat115 = cd\n",
    "\n",
    "# Set District number for DC to be -1\n",
    "cddat115.loc[cddat115.State == 'District of Columbia'].District = -1\n",
    "\n",
    "# Convert numeric data to appropriate data type\n",
    "cols = cddat115.columns.drop(\"State\")\n",
    "cddat115[cols]=cddat115[cols].apply(pd.to_numeric)\n"
   ]
  },
  {
   "cell_type": "code",
   "execution_count": 25,
   "metadata": {},
   "outputs": [],
   "source": [
    "# Get share per district of House representatives in new columns\n",
    "cddat115[\"W_hr_share\"] = cddat115.White     / cddat115.Total\n",
    "cddat115[\"B_hr_share\"] = cddat115.Black     / cddat115.Total\n",
    "cddat115[\"A_hr_share\"] = cddat115.Asian     / cddat115.Total\n",
    "cddat115[\"H_hr_share\"] = cddat115.Hispanic  / cddat115.Total\n",
    "# # Correct for DC:\n",
    "# cddat115.loc[cddat115.District == -1,[\"W_hr_share\", \"B_hr_share\", \n",
    "#                                       \"A_hr_share\",\"H_hr_share\"]] = [0, 0, 0, 0]\n",
    "# Drop DC:\n",
    "cddat115.drop(cddat115[cddat115[\"State\"]=='District of Columbia'].index, inplace=True)"
   ]
  },
  {
   "cell_type": "code",
   "execution_count": 26,
   "metadata": {},
   "outputs": [],
   "source": [
    "# Get average shares (in millionths) of House representatives by race\n",
    "reps_avg_share115 = pd.DataFrame(\n",
    "    cddat115[[\"W_hr_share\",\"B_hr_share\",\"A_hr_share\",\"H_hr_share\"]].sum(\n",
    "        axis=0).values / \n",
    "    cddat115[[\"White\",\"Black\",\"Asian\",\"Hispanic\"]].sum(axis=0).values,\n",
    "                           index = [\"White\", \"Black\", \"Asian\", \"Hispanic\"],\n",
    "                             columns = [\"House\"])"
   ]
  },
  {
   "cell_type": "code",
   "execution_count": 27,
   "metadata": {},
   "outputs": [],
   "source": [
    "# For each class, get average shares (in millionths) of House reps for non-members of that class\n",
    "reps_avg_share115[\"Non_House\"] = (\n",
    "(1-cddat115[[\"W_hr_share\",\"B_hr_share\",\"A_hr_share\",\"H_hr_share\"]]).sum(\n",
    "        axis=0).values / \n",
    "    (-cddat115[[\"White\",\"Black\",\"Asian\",\"Hispanic\"]].sub(cddat115.Total,axis=0).sum(axis=0).values))"
   ]
  },
  {
   "cell_type": "code",
   "execution_count": 28,
   "metadata": {},
   "outputs": [],
   "source": [
    "# Now make a table with a row per state, to investigate the Senate numbers\n",
    "stdat115 = cddat115.groupby(\"State\").sum()[[\"Total\",\"White\",\"Black\",\n",
    "                                            \"Asian\",\"Hispanic\"]]"
   ]
  },
  {
   "cell_type": "code",
   "execution_count": 29,
   "metadata": {},
   "outputs": [],
   "source": [
    "# Get share per state of Senators in new columns\n",
    "stdat115[\"W_sn_share\"] = 2 * stdat115.White     / stdat115.Total\n",
    "stdat115[\"B_sn_share\"] = 2 * stdat115.Black     / stdat115.Total\n",
    "stdat115[\"A_sn_share\"] = 2 * stdat115.Asian     / stdat115.Total\n",
    "stdat115[\"H_sn_share\"] = 2 * stdat115.Hispanic  / stdat115.Total\n",
    "# # Correct for DC:\n",
    "# stdat115.loc['District of Columbia',[\"W_sn_share\", \"B_sn_share\", \n",
    "#                                      \"A_sn_share\",\"H_sn_share\"]] = [0, 0, 0, 0]"
   ]
  },
  {
   "cell_type": "code",
   "execution_count": 30,
   "metadata": {},
   "outputs": [],
   "source": [
    "# Get average shares of Senators by race\n",
    "reps_avg_share115[\"Senate\"] = (\n",
    "    stdat115[[\"W_sn_share\",\"B_sn_share\",\"A_sn_share\",\"H_sn_share\"]].sum(\n",
    "        axis=0).values / \n",
    "    stdat115[[\"White\",\"Black\",\"Asian\",\"Hispanic\"]].sum(axis=0).values) "
   ]
  },
  {
   "cell_type": "code",
   "execution_count": 31,
   "metadata": {},
   "outputs": [],
   "source": [
    "# Get average shares of Senators for non-members of each class\n",
    "reps_avg_share115[\"Non_Senate\"] = (\n",
    "(2-stdat115[[\"W_sn_share\",\"B_sn_share\",\"A_sn_share\",\"H_sn_share\"]]).sum(\n",
    "        axis=0).values / \n",
    "    (-stdat115[[\"White\",\"Black\",\"Asian\",\"Hispanic\"]].sub(stdat115.Total,axis=0).sum(axis=0).values))"
   ]
  },
  {
   "cell_type": "markdown",
   "metadata": {},
   "source": [
    "## Visualization: 115th Congress"
   ]
  },
  {
   "cell_type": "code",
   "execution_count": 32,
   "metadata": {},
   "outputs": [],
   "source": [
    "# Get side by side bar graphs of percentage deviation from non-class mean # of shares of each chamber\n",
    "pop_mean_hr_share = 435 / cddat113.Total.sum()\n",
    "pop_mean_sn_share = 100 / cddat113.Total.sum()\n",
    "percent_diffs_hr = (reps_avg_share115.House  / reps_avg_share115.Non_House - 1) * 100\n",
    "percent_diffs_sn = (reps_avg_share115.Senate  / reps_avg_share115.Non_Senate - 1) * 100\n",
    "\n",
    "plot=plt.figure(figsize=(14, 4))\n",
    "top,bottom = (percent_diffs_sn.max(),percent_diffs_sn.min())\n",
    "\n",
    "plt.subplot(1,2,1)\n",
    "plt.bar(percent_diffs_hr.index,percent_diffs_hr)\n",
    "plt.xlabel('Class')\n",
    "plt.ylabel('Percent deviation')\n",
    "plt.title('House shares: % deviation of class member from non-member')\n",
    "plt.ylim(bottom-1,top+1)\n",
    "plt.axhline(y=0,linewidth=1, color='k',lineStyle=':')\n",
    "\n",
    "plt.subplot(1,2,2)\n",
    "plt.bar(percent_diffs_sn.index,percent_diffs_sn)\n",
    "plt.xlabel('Class')\n",
    "plt.ylabel('Percent deviation')\n",
    "plt.title('Senate shares: % deviation of class member from non-member')\n",
    "plt.ylim(bottom-1,top+1)\n",
    "plt.axhline(y=0,linewidth=1, color='k',lineStyle=':')\n",
    "\n",
    "# plt.show()\n",
    "plot.savefig('Percent_deviations_115th.png')\n",
    "# percent_diffs_hr\n",
    "plt.close()"
   ]
  },
  {
   "cell_type": "code",
   "execution_count": 35,
   "metadata": {},
   "outputs": [],
   "source": [
    "# Get a scatterplot for each race showing senatorial representation vs \n",
    "# race proportion of population in each state\n",
    "\n",
    "white_pop_prop = pd.DataFrame(stdat115.White    / stdat115.Total)\n",
    "black_pop_prop = pd.DataFrame(stdat115.Black    / stdat115.Total)\n",
    "asian_pop_prop = pd.DataFrame(stdat115.Asian    / stdat115.Total)\n",
    "hispn_pop_prop = pd.DataFrame(stdat115.Hispanic / stdat115.Total)\n",
    "\n",
    "avg_share_pp  = pd.DataFrame(1e7 * stdat115.B_sn_share / stdat115.Black) \n",
    "\n",
    "fig,axs = plt.subplots(2,2,figsize=(16,12))\n",
    "\n",
    "\n",
    "# White plot\n",
    "ax = axs[0,0]\n",
    "for ii in range(len(white_pop_prop)):\n",
    "    ax.text(avg_share_pp.iloc[ii],white_pop_prop.iloc[ii],\n",
    "                states_abbr[white_pop_prop.index[ii]],color =\"blue\")\n",
    "    ax.set_xlim([0,avg_share_pp.max().values*1.1])\n",
    "    ax.set_ylim([white_pop_prop.min().values*.9,1])\n",
    "# plt.scatter(avg_share_pp,white_pop_prop)\n",
    "ax.set_ylabel('White proportion of total population')\n",
    "ax.set_xlabel('Senatorial shares (ten millionths)')\n",
    "ax.set_title('White proportion of population vs. share of senatorial rep.')\n",
    "results = sm.OLS(logit(white_pop_prop),sm.add_constant(avg_share_pp)).fit()\n",
    "# print(results.summary())\n",
    "ax.plot(np.linspace(0,35),expit(results.params.const + results.params[0] * \n",
    "                                 np.linspace(0,35)), color=\"red\")\n",
    "\n",
    "# Black plot\n",
    "ax = axs[0,1]\n",
    "for ii in range(len(black_pop_prop)):\n",
    "    ax.text(avg_share_pp.iloc[ii],black_pop_prop.iloc[ii],\n",
    "                states_abbr[black_pop_prop.index[ii]],color =\"blue\")\n",
    "    ax.set_xlim([0,avg_share_pp.max().values*1.1])\n",
    "    ax.set_ylim([0,black_pop_prop.max().values*1.1])\n",
    "# plt.scatter(avg_share_pp,white_pop_prop)\n",
    "ax.set_ylabel('Black proportion of total population')\n",
    "ax.set_xlabel('Senatorial shares (ten millionths)')\n",
    "ax.set_title('Black proportion of population vs. share of senatorial rep.')\n",
    "results = sm.OLS(logit(black_pop_prop),sm.add_constant(avg_share_pp)).fit()\n",
    "# print(results.summary())\n",
    "ax.plot(np.linspace(0,35),expit(results.params.const + results.params[0] * \n",
    "                                 np.linspace(0,35)), color=\"red\")\n",
    "\n",
    "# Asian plot\n",
    "ax = axs[1,0]\n",
    "for ii in range(len(asian_pop_prop)):\n",
    "    ax.text(avg_share_pp.iloc[ii],asian_pop_prop.iloc[ii],\n",
    "                states_abbr[asian_pop_prop.index[ii]],color =\"blue\")\n",
    "    ax.set_xlim([0,avg_share_pp.max().values*1.1])\n",
    "    ax.set_ylim([0,asian_pop_prop.max().values*1.1])\n",
    "# plt.scatter(avg_share_pp,white_pop_prop)\n",
    "ax.set_ylabel('Asian proportion of total population')\n",
    "ax.set_xlabel('Senatorial shares (ten millionths)')\n",
    "ax.set_title('Asian proportion of population vs. share of senatorial rep.')\n",
    "results = sm.OLS(logit(asian_pop_prop),sm.add_constant(avg_share_pp)).fit()\n",
    "# print(results.summary())\n",
    "ax.plot(np.linspace(0,35),expit(results.params.const + results.params[0] * \n",
    "                                 np.linspace(0,35)), color=\"red\")\n",
    "\n",
    "# Hispanic plot\n",
    "ax = axs[1,1]\n",
    "for ii in range(len(hispn_pop_prop)):\n",
    "    ax.text(avg_share_pp.iloc[ii],hispn_pop_prop.iloc[ii],\n",
    "                states_abbr[hispn_pop_prop.index[ii]],color =\"blue\")\n",
    "    ax.set_xlim([0,avg_share_pp.max().values*1.1])\n",
    "    ax.set_ylim([0,hispn_pop_prop.max().values*1.1])\n",
    "# plt.scatter(avg_share_pp,white_pop_prop)\n",
    "ax.set_ylabel('Hispanic proportion of total population')\n",
    "ax.set_xlabel('Senatorial shares (ten millionths)')\n",
    "ax.set_title('Hispanic proportion of population vs. share of senatorial rep.')\n",
    "results = sm.OLS(logit(hispn_pop_prop),sm.add_constant(avg_share_pp)).fit()\n",
    "# print(results.summary())\n",
    "ax.plot(np.linspace(0,35),expit(results.params.const + results.params[0] * \n",
    "                                 np.linspace(0,35)), color=\"red\")\n",
    "\n",
    "# plt.show()\n",
    "fig.savefig('Pop_vs_sen_shares_115.png')\n",
    "plt.close()"
   ]
  },
  {
   "cell_type": "code",
   "execution_count": 38,
   "metadata": {},
   "outputs": [],
   "source": [
    "# Now look again at white and asian senatorial representation, but without Hawaii\n",
    "\n",
    "app = asian_pop_prop.drop(['Hawaii'])\n",
    "# app_ndc = app.drop(['District of Columbia'])\n",
    "asp = avg_share_pp.drop(['Hawaii'])\n",
    "# asp_ndc = avg_share_pp_ndc.drop(['Hawaii'])\n",
    "wpp = white_pop_prop.drop(['Hawaii'])\n",
    "\n",
    "fig, axs = plt.subplots(1,2,figsize=(16,6))\n",
    "\n",
    "ax=axs[0]\n",
    "for ii in range(len(wpp)):\n",
    "    ax.text(asp.iloc[ii],wpp.iloc[ii],\n",
    "                states_abbr[wpp.index[ii]],color =\"blue\")\n",
    "    ax.set_xlim([0,asp.max().values*1.1])\n",
    "    ax.set_ylim([wpp.min().values*0.9,1])\n",
    "ax.set_ylabel('White proportion of total population')\n",
    "ax.set_xlabel('Senatorial shares (ten millionths)')\n",
    "ax.set_title('White proportion of population vs. share of senatorial rep., w/o Hawaii')\n",
    "results = sm.OLS(logit(wpp),sm.add_constant(asp)).fit()\n",
    "ax.plot(np.linspace(0,35),expit(results.params.const + results.params[0] * \n",
    "                                 np.linspace(0,35)), color=\"red\")\n",
    "\n",
    "ax=axs[1]\n",
    "for ii in range(len(app)):\n",
    "    ax.text(asp.iloc[ii],app.iloc[ii],\n",
    "                states_abbr[app.index[ii]],color =\"blue\")\n",
    "    ax.set_xlim([0,asp.max().values*1.1])\n",
    "    ax.set_ylim([0,app.max().values*1.1])\n",
    "ax.set_ylabel('Asian proportion of total population')\n",
    "ax.set_xlabel('Senatorial shares (ten millionths)')\n",
    "ax.set_title('Asian proportion of population vs. share of senatorial rep., w/o Hawaii')\n",
    "results = sm.OLS(logit(app),sm.add_constant(asp)).fit()\n",
    "ax.plot(np.linspace(0,35),expit(results.params.const + results.params[0] * \n",
    "                                 np.linspace(0,35)), color=\"red\")\n",
    "\n",
    "# plt.show()\n",
    "fig.savefig('Pop_vs_sen_shares_115_asian_wo_hi.png')\n",
    "plt.close()"
   ]
  }
 ],
 "metadata": {
  "kernelspec": {
   "display_name": "Python 3",
   "language": "python",
   "name": "python3"
  },
  "language_info": {
   "codemirror_mode": {
    "name": "ipython",
    "version": 3
   },
   "file_extension": ".py",
   "mimetype": "text/x-python",
   "name": "python",
   "nbconvert_exporter": "python",
   "pygments_lexer": "ipython3",
   "version": "3.7.0"
  }
 },
 "nbformat": 4,
 "nbformat_minor": 2
}
